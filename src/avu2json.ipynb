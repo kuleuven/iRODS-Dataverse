{
 "cells": [
  {
   "cell_type": "code",
   "execution_count": 2,
   "id": "f9a8cad8-4a34-45ef-9b24-121fc1ff6f2f",
   "metadata": {},
   "outputs": [],
   "source": [
    "from mango_mdschema import Schema"
   ]
  },
  {
   "cell_type": "code",
   "execution_count": 3,
   "id": "9b4abef7-9bab-40c4-9462-9dff70e556a9",
   "metadata": {},
   "outputs": [],
   "source": [
    "import json\n",
    "import os, os.path"
   ]
  },
  {
   "cell_type": "code",
   "execution_count": 44,
   "id": "b91ddc7a-cddf-4e92-91c8-5265d4f36e61",
   "metadata": {},
   "outputs": [
    {
     "data": {
      "text/plain": [
       "<mango_mdschema.schema.Schema at 0x7fb5a47f6410>"
      ]
     },
     "execution_count": 44,
     "metadata": {},
     "output_type": "execute_result"
    }
   ],
   "source": [
    "dv_schema = Schema(\"../doc/metadata/mango2dv-demo-1.0.0-published.json\")\n",
    "dv_schema"
   ]
  },
  {
   "cell_type": "code",
   "execution_count": 45,
   "id": "3bee3104-d74d-402d-9e9a-c6e90ba9e712",
   "metadata": {},
   "outputs": [
    {
     "name": "stdout",
     "output_type": "stream",
     "text": [
      "\u001b[1mManGO Dataset to Dataverse Demo\u001b[0m\n",
      "Metadata annotated with the schema 'mango2dv-demo' (1.0.0) carry the prefix 'mgs'.\n",
      "This schema contains the following 5 fields:\n",
      "- \u001b[1mtitle\u001b[0m, of type 'text' (required).\n",
      "- \u001b[1mauthor\u001b[0m, of type 'object' (required).\n",
      "- \u001b[1mdatasetContact\u001b[0m, of type 'object' (required).\n",
      "- \u001b[1mdsDescription\u001b[0m, of type 'textarea' (required).\n",
      "- \u001b[1msubject\u001b[0m, of type 'select'.\n"
     ]
    }
   ],
   "source": [
    "print(dv_schema)"
   ]
  },
  {
   "cell_type": "code",
   "execution_count": 46,
   "id": "148110e9-2724-45a2-8247-8f412378bb50",
   "metadata": {},
   "outputs": [
    {
     "name": "stdout",
     "output_type": "stream",
     "text": [
      "\u001b[1mType\u001b[0m: object.\n",
      "\u001b[1mRequired\u001b[0m: True. (2 of its 2 fields are required.)\n",
      "\u001b[1mRepeatable\u001b[0m: True.\n",
      "\n",
      "Composed of the following fields:\n",
      "\u001b[4mmango2dv-demo.author.authorName\u001b[0m\n",
      "\u001b[1mType\u001b[0m: text.\n",
      "\u001b[1mRequired\u001b[0m: True. \u001b[1mDefault\u001b[0m: None.\n",
      "\u001b[1mRepeatable\u001b[0m: False.\n",
      "\n",
      "\u001b[4mmango2dv-demo.author.authorAffiliation\u001b[0m\n",
      "\u001b[1mType\u001b[0m: text.\n",
      "\u001b[1mRequired\u001b[0m: True. \u001b[1mDefault\u001b[0m: None.\n",
      "\u001b[1mRepeatable\u001b[0m: False.\n"
     ]
    }
   ],
   "source": [
    "dv_schema.print_requirements(\"author\")"
   ]
  },
  {
   "cell_type": "code",
   "execution_count": 6,
   "id": "77c54ec5-e125-47f2-9899-b9e4fae33b11",
   "metadata": {},
   "outputs": [
    {
     "data": {
      "text/plain": [
       "{'datasetVersion': {'metadataBlocks': {'citation': {'fields': [{'value': '...Title...',\n",
       "      'typeClass': 'primitive',\n",
       "      'multiple': False,\n",
       "      'typeName': 'title'},\n",
       "     {'value': [{'authorName': {'value': '...LastName..., ...FirstName...',\n",
       "         'typeClass': 'primitive',\n",
       "         'multiple': False,\n",
       "         'typeName': 'authorName'},\n",
       "        'authorAffiliation': {'value': '...Affiliation...',\n",
       "         'typeClass': 'primitive',\n",
       "         'multiple': False,\n",
       "         'typeName': 'authorAffiliation'}}],\n",
       "      'typeClass': 'compound',\n",
       "      'multiple': False,\n",
       "      'typeName': 'author'},\n",
       "     {'value': [{'datasetContactEmail': {'value': '...Email...',\n",
       "         'typeClass': 'primitive',\n",
       "         'multiple': False,\n",
       "         'typeName': 'datasetContactEmail'},\n",
       "        'datasetContactName': {'value': '...LastName..., ...FirstName...',\n",
       "         'typeClass': 'primitive',\n",
       "         'multiple': False,\n",
       "         'typeName': 'datasetContactName'}}],\n",
       "      'typeClass': 'compound',\n",
       "      'multiple': False,\n",
       "      'typeName': 'datasetContact'},\n",
       "     {'value': [{'dsDescriptionValue': {'value': '...Description...',\n",
       "         'typeClass': 'primitive',\n",
       "         'multiple': False,\n",
       "         'typeName': 'dsDescriptionValue'}}],\n",
       "      'typeClass': 'compound',\n",
       "      'multiple': True,\n",
       "      'typeName': 'dsDescription'},\n",
       "     {'value': ['...One-of-the-subjects-at-/doc/metadata/CVs/subjects_Demo.json...'],\n",
       "      'typeClass': 'controlledVocabulary',\n",
       "      'multiple': True,\n",
       "      'typeName': 'subject'}],\n",
       "    'displayName': 'Citation Metadata'}}}}"
      ]
     },
     "execution_count": 6,
     "metadata": {},
     "output_type": "execute_result"
    }
   ],
   "source": [
    "with open(\"../doc/metadata/template_Demo.json\") as f:\n",
    "    template = json.load(f)\n",
    "template"
   ]
  },
  {
   "cell_type": "code",
   "execution_count": 11,
   "id": "2ee53f56-0c3f-4706-9d8d-7244c9bff73f",
   "metadata": {},
   "outputs": [],
   "source": [
    "# this is an array of fields\n",
    "fields = template[\"datasetVersion\"][\"metadataBlocks\"][\"citation\"][\"fields\"]"
   ]
  },
  {
   "cell_type": "markdown",
   "id": "84acad0f-2872-4b00-b18c-a8449aaf8ac7",
   "metadata": {},
   "source": [
    "# Simulate getting metadata from iRODS\n",
    "\n",
    "The code below is to simulate, based on the template metadata, doing the following:\n",
    "\n",
    "```python\n",
    "with iRODSSession(irods_env_file=env_file) as session:\n",
    "     obj = session.data_objects.get('path/to/my/object'\n",
    "    avus_as_jsonta dv_schemama.extract(ob\n",
    "\n",
    ")\n",
    "`\n",
    "``"
   ]
  },
  {
   "cell_type": "code",
   "execution_count": 38,
   "id": "83599430-83d3-40e0-863a-31ea247978c2",
   "metadata": {},
   "outputs": [],
   "source": [
    "def field(f):\n",
    "    if f[\"typeClass\"] == \"compound\":\n",
    "        return (f[\"typeName\"], {k: v for k, v in [field(ff) for ff in f[\"value\"][0].values()]})\n",
    "    else:\n",
    "        return (f[\"typeName\"], f[\"value\"])"
   ]
  },
  {
   "cell_type": "code",
   "execution_count": 40,
   "id": "9fdd2f8c-6102-4407-9134-96d950ee7cc8",
   "metadata": {},
   "outputs": [],
   "source": [
    "metadata_dict = {k: v for k, v in [field(f) for f in fields]}"
   ]
  },
  {
   "cell_type": "code",
   "execution_count": 50,
   "id": "4cb486d5-3115-4892-9e76-b72169c7ecf3",
   "metadata": {},
   "outputs": [],
   "source": [
    "metadata_dict['dsDescription']= \"Some text\""
   ]
  },
  {
   "cell_type": "code",
   "execution_count": 51,
   "id": "3f44f2a6-1255-492a-83fc-d0fe9d2141e4",
   "metadata": {},
   "outputs": [
    {
     "data": {
      "text/plain": [
       "{'title': '...Title...',\n",
       " 'author': {'authorName': '...LastName..., ...FirstName...',\n",
       "  'authorAffiliation': '...Affiliation...'},\n",
       " 'datasetContact': {'datasetContactEmail': '...Email...',\n",
       "  'datasetContactName': '...LastName..., ...FirstName...'},\n",
       " 'dsDescription': 'Some text',\n",
       " 'subject': ['...One-of-the-subjects-at-/doc/metadata/CVs/subjects_Demo.json...']}"
      ]
     },
     "execution_count": 51,
     "metadata": {},
     "output_type": "execute_result"
    }
   ],
   "source": [
    "metadata_dict"
   ]
  },
  {
   "cell_type": "code",
   "execution_count": 52,
   "id": "cae9ffa7-37c4-4202-87e1-641e940a34f6",
   "metadata": {},
   "outputs": [
    {
     "data": {
      "text/plain": [
       "{'title': '...Title...',\n",
       " 'author': [{'authorName': '...LastName..., ...FirstName...',\n",
       "   'authorAffiliation': '...Affiliation...'}],\n",
       " 'datasetContact': [{'datasetContactEmail': '...Email...',\n",
       "   'datasetContactName': '...LastName..., ...FirstName...'}],\n",
       " 'dsDescription': ['Some text'],\n",
       " 'subject': []}"
      ]
     },
     "execution_count": 52,
     "metadata": {},
     "output_type": "execute_result"
    }
   ],
   "source": [
    "dv_schema.validate(metadata_dict)"
   ]
  },
  {
   "cell_type": "code",
   "execution_count": 54,
   "id": "5804d9b2-385a-4ce5-9cfa-696e394d04e2",
   "metadata": {},
   "outputs": [],
   "source": [
    "# if we extracted the metadata from irods\n",
    "as_avus = dv_schema.to_avus(metadata_dict)"
   ]
  },
  {
   "cell_type": "code",
   "execution_count": 55,
   "id": "de9cfac5-ec45-49c3-a63c-dfa667e7b5ff",
   "metadata": {},
   "outputs": [
    {
     "data": {
      "text/plain": [
       "[<iRODSMeta None mgs.mango2dv-demo.title ...Title... None>,\n",
       " <iRODSMeta None mgs.mango2dv-demo.author.authorName ...LastName..., ...FirstName... 1>,\n",
       " <iRODSMeta None mgs.mango2dv-demo.author.authorAffiliation ...Affiliation... 1>,\n",
       " <iRODSMeta None mgs.mango2dv-demo.datasetContact.datasetContactEmail ...Email... 1>,\n",
       " <iRODSMeta None mgs.mango2dv-demo.datasetContact.datasetContactName ...LastName..., ...FirstName... 1>,\n",
       " <iRODSMeta None mgs.mango2dv-demo.dsDescription Some text None>]"
      ]
     },
     "execution_count": 55,
     "metadata": {},
     "output_type": "execute_result"
    }
   ],
   "source": [
    "as_avus"
   ]
  },
  {
   "cell_type": "markdown",
   "id": "0b6dc5ac-8d2f-43cd-9511-ba9f6776f8f4",
   "metadata": {},
   "source": [
    "# Convert AVUs to template JSON"
   ]
  },
  {
   "cell_type": "code",
   "execution_count": 59,
   "id": "c357c023-3539-4508-baac-7fbe0449708a",
   "metadata": {},
   "outputs": [
    {
     "data": {
      "text/plain": [
       "{'author': [{'authorAffiliation': '...Affiliation...',\n",
       "   'authorName': '...LastName..., ...FirstName...'}],\n",
       " 'datasetContact': [{'datasetContactEmail': '...Email...',\n",
       "   'datasetContactName': '...LastName..., ...FirstName...'}],\n",
       " 'dsDescription': ['Some text'],\n",
       " 'title': '...Title...'}"
      ]
     },
     "execution_count": 59,
     "metadata": {},
     "output_type": "execute_result"
    }
   ],
   "source": [
    "avus_as_json = dv_schema.from_avus(as_avus)\n",
    "avus_as_json"
   ]
  },
  {
   "cell_type": "code",
   "execution_count": 68,
   "id": "765e61c1-6fa2-4009-a455-945932fb9de5",
   "metadata": {},
   "outputs": [
    {
     "data": {
      "text/plain": [
       "{'value': ['...One-of-the-subjects-at-/doc/metadata/CVs/subjects_Demo.json...'],\n",
       " 'typeClass': 'controlledVocabulary',\n",
       " 'multiple': True,\n",
       " 'typeName': 'subject'}"
      ]
     },
     "execution_count": 68,
     "metadata": {},
     "output_type": "execute_result"
    }
   ],
   "source": [
    "fields[4]"
   ]
  },
  {
   "cell_type": "code",
   "execution_count": 69,
   "id": "cfcd6588-6488-4e42-b04c-d9a274936777",
   "metadata": {},
   "outputs": [],
   "source": [
    "def dictconvert(key, value):\n",
    "    res = {\"value\": value, \"typeName\": key, \"multiple\": False}\n",
    "    if type(value) == str:\n",
    "        res[\"typeClass\"] = \"primitive\"\n",
    "    elif type(value[0]) == dict:\n",
    "        res[\"typeClass\"] = \"compound\"\n",
    "        res[\"value\"] = [{k: dictconvert(k, v) for k, v in value[0].items()}]\n",
    "    else:\n",
    "        res[\"typeClass\"] = \"controlledVocabulary\"\n",
    "        res[\"multiple\"] = True\n",
    "    return res"
   ]
  },
  {
   "cell_type": "code",
   "execution_count": 71,
   "id": "3216a0b6-750b-4334-ba96-401228846bc1",
   "metadata": {},
   "outputs": [],
   "source": [
    "new_fields = [dictconvert(key, value) for key, value in avus_as_json.items()]"
   ]
  },
  {
   "cell_type": "code",
   "execution_count": 73,
   "id": "cc577bea-9a0b-49b0-be02-50aab68a9bca",
   "metadata": {},
   "outputs": [],
   "source": [
    "template[\"datasetVersion\"][\"metadataBlocks\"][\"citation\"][\"fields\"] = new_fields\n",
    "with open(\"../doc/metadata/filled_in_template_Demo.json\", \"w\") as f:\n",
    "    json.dump(template, f)"
   ]
  }
 ],
 "metadata": {
  "kernelspec": {
   "display_name": "Python 3 (ipykernel)",
   "language": "python",
   "name": "python3"
  },
  "language_info": {
   "codemirror_mode": {
    "name": "ipython",
    "version": 3
   },
   "file_extension": ".py",
   "mimetype": "text/x-python",
   "name": "python",
   "nbconvert_exporter": "python",
   "pygments_lexer": "ipython3",
   "version": "3.10.8"
  }
 },
 "nbformat": 4,
 "nbformat_minor": 5
}
