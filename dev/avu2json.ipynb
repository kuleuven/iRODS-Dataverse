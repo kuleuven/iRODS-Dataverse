{
 "cells": [
  {
   "cell_type": "code",
   "execution_count": 1,
   "id": "f9a8cad8-4a34-45ef-9b24-121fc1ff6f2f",
   "metadata": {},
   "outputs": [],
   "source": [
    "from mango_mdschema import Schema"
   ]
  },
  {
   "cell_type": "code",
   "execution_count": 2,
   "id": "9b4abef7-9bab-40c4-9462-9dff70e556a9",
   "metadata": {},
   "outputs": [],
   "source": [
    "import json\n",
    "import os, os.path"
   ]
  },
  {
   "cell_type": "code",
   "execution_count": 44,
   "id": "b91ddc7a-cddf-4e92-91c8-5265d4f36e61",
   "metadata": {},
   "outputs": [
    {
     "data": {
      "text/plain": [
       "<mango_mdschema.schema.Schema at 0x7fb5a47f6410>"
      ]
     },
     "execution_count": 44,
     "metadata": {},
     "output_type": "execute_result"
    }
   ],
   "source": [
    "dv_schema = Schema(\"../doc/metadata/mango2dv-demo-1.0.0-published.json\")\n",
    "dv_schema"
   ]
  },
  {
   "cell_type": "code",
   "execution_count": 3,
   "id": "798da134-2fc3-4e0f-af81-c66f81c3d007",
   "metadata": {},
   "outputs": [
    {
     "data": {
      "text/plain": [
       "<mango_mdschema.schema.Schema at 0x7f062663a7d0>"
      ]
     },
     "execution_count": 3,
     "metadata": {},
     "output_type": "execute_result"
    }
   ],
   "source": [
    "dv_schema = Schema(\"../doc/metadata/mango2dv-rdr-1.0.0-published.json\")\n",
    "dv_schema"
   ]
  },
  {
   "cell_type": "code",
   "execution_count": 156,
   "id": "6a521604-2e27-40bf-9629-63ebcfa33b1b",
   "metadata": {},
   "outputs": [
    {
     "data": {
      "text/plain": [
       "\u001b[0;31mInit signature:\u001b[0m \u001b[0mSchema\u001b[0m\u001b[0;34m(\u001b[0m\u001b[0mpath\u001b[0m\u001b[0;34m:\u001b[0m \u001b[0mstr\u001b[0m\u001b[0;34m,\u001b[0m \u001b[0mprefix\u001b[0m\u001b[0;34m:\u001b[0m \u001b[0mstr\u001b[0m \u001b[0;34m=\u001b[0m \u001b[0;34m'mgs'\u001b[0m\u001b[0;34m)\u001b[0m\u001b[0;34m\u001b[0m\u001b[0;34m\u001b[0m\u001b[0m\n",
       "\u001b[0;31mDocstring:\u001b[0m     \n",
       "Class representing a Metadata Schema.\n",
       "\n",
       "Attributes:\n",
       "    name (str): Name of the schema.\n",
       "    version (str): Version of the schema.\n",
       "    title (str): Title of the schema, for messages.\n",
       "        The name if no such title is provided in the JSON (which should not happen).\n",
       "    root (CompositeField): Root field of the schema.\n",
       "    fields (dict): Dictionary of fields in the schema (alias for root.fields)\n",
       "    required_fields (dict): Dictionary of required fields and their default values.\n",
       "        If a field is required and has no default value, it is not present in the dictionary.\n",
       "\u001b[0;31mInit docstring:\u001b[0m\n",
       "Init a Schema object from a JSON file.\n",
       "\n",
       "Args:\n",
       "    path (str): Path to the metadata schema.\n",
       "    prefix (str): Prefix to add to the metadata names. Default is 'mgs' (ManGO schema).\n",
       "\n",
       "Raises:\n",
       "    IOError: When the file cannot be opened.\n",
       "    KeyError: Some fields are required\n",
       "        ('schema_name', 'version', 'status', 'properties' and 'title'.)\n",
       "        If any of them are missing from the schema, this error is raised.\n",
       "    ValueError: When the schema is not published.\n",
       "\u001b[0;31mFile:\u001b[0m           ~/.local/lib/python3.10/site-packages/mango_mdschema/schema.py\n",
       "\u001b[0;31mType:\u001b[0m           type\n",
       "\u001b[0;31mSubclasses:\u001b[0m     "
      ]
     },
     "metadata": {},
     "output_type": "display_data"
    }
   ],
   "source": [
    "?Schema"
   ]
  },
  {
   "cell_type": "code",
   "execution_count": 4,
   "id": "3bee3104-d74d-402d-9e9a-c6e90ba9e712",
   "metadata": {},
   "outputs": [
    {
     "name": "stdout",
     "output_type": "stream",
     "text": [
      "\u001b[1mManGO Dataset to RDR\u001b[0m\n",
      "Metadata annotated with the schema 'mango2dv-rdr' (1.0.0) carry the prefix 'mgs'.\n",
      "This schema contains the following 7 fields:\n",
      "- \u001b[1mtitle\u001b[0m, of type 'text' (required).\n",
      "- \u001b[1mauthor\u001b[0m, of type 'object' (required).\n",
      "- \u001b[1mdatasetContact\u001b[0m, of type 'object' (required).\n",
      "- \u001b[1mdsDescription\u001b[0m, of type 'object' (required).\n",
      "- \u001b[1mkeyword\u001b[0m, of type 'object' (required).\n",
      "- \u001b[1mtechnicalFormat\u001b[0m, of type 'text' (required).\n",
      "- \u001b[1maccess\u001b[0m, of type 'object'.\n"
     ]
    }
   ],
   "source": [
    "print(dv_schema)"
   ]
  },
  {
   "cell_type": "code",
   "execution_count": 5,
   "id": "148110e9-2724-45a2-8247-8f412378bb50",
   "metadata": {},
   "outputs": [
    {
     "name": "stdout",
     "output_type": "stream",
     "text": [
      "\u001b[1mType\u001b[0m: object.\n",
      "\u001b[1mRequired\u001b[0m: True. (2 of its 2 fields are required.)\n",
      "\u001b[1mRepeatable\u001b[0m: False.\n",
      "\n",
      "Composed of the following fields:\n",
      "\u001b[4mmango2dv-rdr.author.authorName\u001b[0m\n",
      "\u001b[1mType\u001b[0m: text.\n",
      "\u001b[1mRequired\u001b[0m: True. \u001b[1mDefault\u001b[0m: None.\n",
      "\u001b[1mRepeatable\u001b[0m: False.\n",
      "\n",
      "\u001b[4mmango2dv-rdr.author.authorAffiliation\u001b[0m\n",
      "\u001b[1mType\u001b[0m: text.\n",
      "\u001b[1mRequired\u001b[0m: True. \u001b[1mDefault\u001b[0m: None.\n",
      "\u001b[1mRepeatable\u001b[0m: False.\n"
     ]
    }
   ],
   "source": [
    "dv_schema.print_requirements(\"author\")"
   ]
  },
  {
   "cell_type": "code",
   "execution_count": 183,
   "id": "77c54ec5-e125-47f2-9899-b9e4fae33b11",
   "metadata": {},
   "outputs": [
    {
     "data": {
      "text/plain": [
       "{'datasetVersion': {'metadataBlocks': {'citation': {'fields': [{'value': '...Title...',\n",
       "      'typeClass': 'primitive',\n",
       "      'multiple': False,\n",
       "      'typeName': 'title'},\n",
       "     {'value': [{'authorName': {'value': '...LastName..., ...FirstName...',\n",
       "         'typeClass': 'primitive',\n",
       "         'multiple': False,\n",
       "         'typeName': 'authorName'},\n",
       "        'authorAffiliation': {'value': '...Affiliation...',\n",
       "         'typeClass': 'primitive',\n",
       "         'multiple': False,\n",
       "         'typeName': 'authorAffiliation'}}],\n",
       "      'typeClass': 'compound',\n",
       "      'multiple': False,\n",
       "      'typeName': 'author'},\n",
       "     {'value': [{'datasetContactEmail': {'value': '...Email...',\n",
       "         'typeClass': 'primitive',\n",
       "         'multiple': False,\n",
       "         'typeName': 'datasetContactEmail'},\n",
       "        'datasetContactName': {'value': '...LastName..., ...FirstName...',\n",
       "         'typeClass': 'primitive',\n",
       "         'multiple': False,\n",
       "         'typeName': 'datasetContactName'}}],\n",
       "      'typeClass': 'compound',\n",
       "      'multiple': False,\n",
       "      'typeName': 'datasetContact'},\n",
       "     {'value': [{'dsDescriptionValue': {'value': '...Description...',\n",
       "         'typeClass': 'primitive',\n",
       "         'multiple': False,\n",
       "         'typeName': 'dsDescriptionValue'}}],\n",
       "      'typeClass': 'compound',\n",
       "      'multiple': True,\n",
       "      'typeName': 'dsDescription'},\n",
       "     {'value': [{'keywordValue': {'value': '...Keyword...',\n",
       "         'typeName': 'keywordValue',\n",
       "         'multiple': False,\n",
       "         'typeClass': 'primitive'}}],\n",
       "      'typeClass': 'compound',\n",
       "      'multiple': True,\n",
       "      'typeName': 'keyword'},\n",
       "     {'value': '...filetypes...',\n",
       "      'typeClass': 'primitive',\n",
       "      'multiple': False,\n",
       "      'typeName': 'technicalFormat'},\n",
       "     {'value': {'accessRights': {'typeName': 'accessRights',\n",
       "        'multiple': False,\n",
       "        'typeClass': 'controlledVocabulary',\n",
       "        'value': '...open/restricted/embargoed/closed..'}},\n",
       "      'typeClass': 'compound',\n",
       "      'multiple': False,\n",
       "      'typeName': 'access'}],\n",
       "    'displayName': 'Citation Metadata'}}}}"
      ]
     },
     "execution_count": 183,
     "metadata": {},
     "output_type": "execute_result"
    }
   ],
   "source": [
    "with open(\"../doc/metadata/template_RDR.json\") as f:\n",
    "    template = json.load(f)\n",
    "template"
   ]
  },
  {
   "cell_type": "code",
   "execution_count": 109,
   "id": "2ee53f56-0c3f-4706-9d8d-7244c9bff73f",
   "metadata": {},
   "outputs": [],
   "source": [
    "# this is an array of fields\n",
    "fields = template[\"datasetVersion\"][\"metadataBlocks\"][\"citation\"][\"fields\"]"
   ]
  },
  {
   "cell_type": "code",
   "execution_count": 110,
   "id": "5ccabf0e-6d25-44d0-b0b1-4c06def47062",
   "metadata": {},
   "outputs": [
    {
     "data": {
      "text/plain": [
       "[{'value': 'Minimum Viable Workflow - 16 May 2024',\n",
       "  'typeClass': 'primitive',\n",
       "  'multiple': False,\n",
       "  'typeName': 'title'},\n",
       " {'value': [{'authorName': {'value': 'Kafetzaki, Danai',\n",
       "     'typeClass': 'primitive',\n",
       "     'multiple': False,\n",
       "     'typeName': 'authorName'},\n",
       "    'authorAffiliation': {'value': 'KU Leuven',\n",
       "     'typeClass': 'primitive',\n",
       "     'multiple': False,\n",
       "     'typeName': 'authorAffiliation'}}],\n",
       "  'typeClass': 'compound',\n",
       "  'multiple': False,\n",
       "  'typeName': 'author'},\n",
       " {'value': [{'datasetContactEmail': {'value': 'danai.kafetzaki@kuleuven.be',\n",
       "     'typeClass': 'primitive',\n",
       "     'multiple': False,\n",
       "     'typeName': 'datasetContactEmail'},\n",
       "    'datasetContactName': {'value': 'Kafetzaki, Danai',\n",
       "     'typeClass': 'primitive',\n",
       "     'multiple': False,\n",
       "     'typeName': 'datasetContactName'}}],\n",
       "  'typeClass': 'compound',\n",
       "  'multiple': False,\n",
       "  'typeName': 'datasetContact'},\n",
       " {'value': [{'dsDescriptionValue': {'value': 'This is a minimal end-to-end implementation for iRODS-Dataverse integration, a KU Leuven and SURF collaboration',\n",
       "     'typeClass': 'primitive',\n",
       "     'multiple': False,\n",
       "     'typeName': 'dsDescriptionValue'}}],\n",
       "  'typeClass': 'compound',\n",
       "  'multiple': True,\n",
       "  'typeName': 'dsDescription'},\n",
       " {'value': [{'keywordValue': {'typeName': 'keywordValue',\n",
       "     'multiple': False,\n",
       "     'typeClass': 'primitive',\n",
       "     'value': 'required-keyword'}}],\n",
       "  'typeClass': 'compound',\n",
       "  'multiple': True,\n",
       "  'typeName': 'keyword'},\n",
       " {'value': 'json',\n",
       "  'typeClass': 'primitive',\n",
       "  'multiple': False,\n",
       "  'typeName': 'technicalFormat'},\n",
       " {'value': {'accessRights': {'typeName': 'accessRights',\n",
       "    'multiple': False,\n",
       "    'typeClass': 'controlledVocabulary',\n",
       "    'value': 'open'}},\n",
       "  'typeClass': 'compound',\n",
       "  'multiple': False,\n",
       "  'typeName': 'access'}]"
      ]
     },
     "execution_count": 110,
     "metadata": {},
     "output_type": "execute_result"
    }
   ],
   "source": [
    "fields"
   ]
  },
  {
   "cell_type": "markdown",
   "id": "84acad0f-2872-4b00-b18c-a8449aaf8ac7",
   "metadata": {},
   "source": [
    "# Simulate getting metadata from iRODS\n",
    "\n",
    "The code below is to simulate, based on the template metadata, doing the following:\n",
    "\n",
    "```python\n",
    "with iRODSSession(irods_env_file=env_file) as session:\n",
    "     obj = session.data_objects.get('path/to/my/object')\n",
    "     avus_as_json = dv_schema.extract(obj)\n",
    "\n",
    "```"
   ]
  },
  {
   "cell_type": "code",
   "execution_count": 16,
   "id": "83599430-83d3-40e0-863a-31ea247978c2",
   "metadata": {},
   "outputs": [],
   "source": [
    "def field(f):\n",
    "    if f[\"typeClass\"] == \"compound\":\n",
    "        values = f[\"value\"] if type(f[\"value\"]) != list else f[\"value\"][0]\n",
    "        return (f[\"typeName\"], {k: v for k, v in [field(ff) for ff in values.values()]})\n",
    "    else:\n",
    "        return (f[\"typeName\"], f[\"value\"])"
   ]
  },
  {
   "cell_type": "code",
   "execution_count": 22,
   "id": "9fdd2f8c-6102-4407-9134-96d950ee7cc8",
   "metadata": {},
   "outputs": [],
   "source": [
    "metadata_dict = {k: v for k, v in [field(f) for f in fields]}"
   ]
  },
  {
   "cell_type": "code",
   "execution_count": 23,
   "id": "4cb486d5-3115-4892-9e76-b72169c7ecf3",
   "metadata": {},
   "outputs": [
    {
     "data": {
      "text/plain": [
       "{'title': 'Minimum Viable Workflow - 16 May 2024',\n",
       " 'author': {'authorName': 'Kafetzaki, Danai',\n",
       "  'authorAffiliation': 'KU Leuven'},\n",
       " 'datasetContact': {'datasetContactEmail': 'danai.kafetzaki@kuleuven.be',\n",
       "  'datasetContactName': 'Kafetzaki, Danai'},\n",
       " 'dsDescription': {'dsDescriptionValue': 'This is a minimal end-to-end implementation for iRODS-Dataverse integration, a KU Leuven and SURF collaboration'},\n",
       " 'keyword': {'keywordValue': 'required-keyword'},\n",
       " 'technicalFormat': 'json',\n",
       " 'access': {'accessRights': 'open'}}"
      ]
     },
     "execution_count": 23,
     "metadata": {},
     "output_type": "execute_result"
    }
   ],
   "source": [
    "metadata_dict"
   ]
  },
  {
   "cell_type": "code",
   "execution_count": 24,
   "id": "cae9ffa7-37c4-4202-87e1-641e940a34f6",
   "metadata": {},
   "outputs": [
    {
     "data": {
      "text/plain": [
       "{'title': 'Minimum Viable Workflow - 16 May 2024',\n",
       " 'author': {'authorName': 'Kafetzaki, Danai',\n",
       "  'authorAffiliation': 'KU Leuven'},\n",
       " 'datasetContact': {'datasetContactEmail': 'danai.kafetzaki@kuleuven.be',\n",
       "  'datasetContactName': 'Kafetzaki, Danai'},\n",
       " 'dsDescription': [{'dsDescriptionValue': 'This is a minimal end-to-end implementation for iRODS-Dataverse integration, a KU Leuven and SURF collaboration'}],\n",
       " 'keyword': [{'keywordValue': 'required-keyword'}],\n",
       " 'technicalFormat': 'json',\n",
       " 'access': {'accessRights': 'open'}}"
      ]
     },
     "execution_count": 24,
     "metadata": {},
     "output_type": "execute_result"
    }
   ],
   "source": [
    "dv_schema.validate(metadata_dict)"
   ]
  },
  {
   "cell_type": "code",
   "execution_count": 25,
   "id": "5804d9b2-385a-4ce5-9cfa-696e394d04e2",
   "metadata": {},
   "outputs": [],
   "source": [
    "# if we extracted the metadata from irods\n",
    "as_avus = dv_schema.to_avus(metadata_dict)"
   ]
  },
  {
   "cell_type": "code",
   "execution_count": 26,
   "id": "de9cfac5-ec45-49c3-a63c-dfa667e7b5ff",
   "metadata": {},
   "outputs": [
    {
     "data": {
      "text/plain": [
       "[<iRODSMeta None mgs.mango2dv-rdr.title Minimum Viable Workflow - 16 May 2024 None>,\n",
       " <iRODSMeta None mgs.mango2dv-rdr.author.authorName Kafetzaki, Danai 1>,\n",
       " <iRODSMeta None mgs.mango2dv-rdr.author.authorAffiliation KU Leuven 1>,\n",
       " <iRODSMeta None mgs.mango2dv-rdr.datasetContact.datasetContactEmail danai.kafetzaki@kuleuven.be 1>,\n",
       " <iRODSMeta None mgs.mango2dv-rdr.datasetContact.datasetContactName Kafetzaki, Danai 1>,\n",
       " <iRODSMeta None mgs.mango2dv-rdr.dsDescription.dsDescriptionValue This is a minimal end-to-end implementation for iRODS-Dataverse integration, a KU Leuven and SURF collaboration 1>,\n",
       " <iRODSMeta None mgs.mango2dv-rdr.keyword.keywordValue required-keyword 1>,\n",
       " <iRODSMeta None mgs.mango2dv-rdr.technicalFormat json None>,\n",
       " <iRODSMeta None mgs.mango2dv-rdr.access.accessRights open 1>]"
      ]
     },
     "execution_count": 26,
     "metadata": {},
     "output_type": "execute_result"
    }
   ],
   "source": [
    "as_avus"
   ]
  },
  {
   "cell_type": "markdown",
   "id": "0b6dc5ac-8d2f-43cd-9511-ba9f6776f8f4",
   "metadata": {},
   "source": [
    "# Convert AVUs to template JSON"
   ]
  },
  {
   "cell_type": "code",
   "execution_count": 27,
   "id": "c357c023-3539-4508-baac-7fbe0449708a",
   "metadata": {},
   "outputs": [
    {
     "data": {
      "text/plain": [
       "{'access': {'accessRights': 'open'},\n",
       " 'author': {'authorAffiliation': 'KU Leuven',\n",
       "  'authorName': 'Kafetzaki, Danai'},\n",
       " 'datasetContact': {'datasetContactEmail': 'danai.kafetzaki@kuleuven.be',\n",
       "  'datasetContactName': 'Kafetzaki, Danai'},\n",
       " 'dsDescription': [{'dsDescriptionValue': 'This is a minimal end-to-end implementation for iRODS-Dataverse integration, a KU Leuven and SURF collaboration'}],\n",
       " 'keyword': [{'keywordValue': 'required-keyword'}],\n",
       " 'technicalFormat': 'json',\n",
       " 'title': 'Minimum Viable Workflow - 16 May 2024'}"
      ]
     },
     "execution_count": 27,
     "metadata": {},
     "output_type": "execute_result"
    }
   ],
   "source": [
    "avus_as_json = dv_schema.from_avus(as_avus)\n",
    "avus_as_json"
   ]
  },
  {
   "cell_type": "code",
   "execution_count": 31,
   "id": "765e61c1-6fa2-4009-a455-945932fb9de5",
   "metadata": {},
   "outputs": [
    {
     "name": "stdout",
     "output_type": "stream",
     "text": [
      "<class 'dict'>\n",
      "<class 'dict'>\n",
      "<class 'dict'>\n",
      "<class 'list'>\n",
      "<class 'list'>\n",
      "<class 'str'>\n",
      "<class 'str'>\n"
     ]
    }
   ],
   "source": [
    "for v in avus_as_json.values():\n",
    "    print(type(v))"
   ]
  },
  {
   "cell_type": "code",
   "execution_count": 47,
   "id": "d6c13319-45b5-4155-8300-87a4eccba100",
   "metadata": {},
   "outputs": [
    {
     "data": {
      "text/plain": [
       "False"
      ]
     },
     "execution_count": 47,
     "metadata": {},
     "output_type": "execute_result"
    }
   ],
   "source": [
    "type(\"mari\") == type(\"taihou\") == int"
   ]
  },
  {
   "cell_type": "code",
   "execution_count": 180,
   "id": "6374553d-e5eb-4da4-88c2-9a1a10043e7d",
   "metadata": {},
   "outputs": [
    {
     "data": {
      "text/plain": [
       "{'access': {'accessRights': 'open'},\n",
       " 'author': [{'authorAffiliation': 'KU Leuven',\n",
       "   'authorName': 'Kafetzaki, Danai'}],\n",
       " 'datasetContact': [{'datasetContactEmail': 'danai.kafetzaki@kuleuven.be',\n",
       "   'datasetContactName': 'Kafetzaki, Danai'}],\n",
       " 'dsDescription': [{'dsDescriptionValue': 'This is a minimal end-to-end implementation for iRODS-Dataverse integration, a KU Leuven and SURF collaboration'}],\n",
       " 'keyword': [{'keywordValue': 'required-keyword'}],\n",
       " 'technicalFormat': 'json',\n",
       " 'title': 'Minimum Viable Workflow - 16 May 2024'}"
      ]
     },
     "execution_count": 180,
     "metadata": {},
     "output_type": "execute_result"
    }
   ],
   "source": [
    "avus_as_json"
   ]
  },
  {
   "cell_type": "code",
   "execution_count": 188,
   "id": "79d806da-cb38-4f76-90db-e1c8cea1599e",
   "metadata": {},
   "outputs": [],
   "source": [
    "def return_dict(value, fromAvu):\n",
    "    return {k: update_template(value[k], fromAvu) for k in value.keys()}\n",
    "    \n",
    "def update_template(field, avus_as_json):\n",
    "    typeName = field[\"typeName\"]\n",
    "    value = field[\"value\"]\n",
    "    fromAvu = avus_as_json[typeName]\n",
    "    typeClass = field[\"typeClass\"]\n",
    "    if typeClass != \"compound\":\n",
    "        field[\"value\"] = fromAvu\n",
    "    elif type(value) == list:\n",
    "        if type(fromAvu) != list:\n",
    "            fromAvu = [fromAvu]\n",
    "        field[\"value\"] = [return_dict(x, y) for x, y in zip(value, fromAvu)]\n",
    "    else:\n",
    "        field[\"value\"] = return_dict(value, fromAvu)\n",
    "    return field"
   ]
  },
  {
   "cell_type": "code",
   "execution_count": 189,
   "id": "8f708d55-3c33-4ea3-8d2a-5917fbce1e51",
   "metadata": {
    "scrolled": true
   },
   "outputs": [
    {
     "data": {
      "text/plain": [
       "{'datasetVersion': {'metadataBlocks': {'citation': {'fields': [{'value': '...Title...',\n",
       "      'typeClass': 'primitive',\n",
       "      'multiple': False,\n",
       "      'typeName': 'title'},\n",
       "     {'value': [{'authorName': {'value': '...LastName..., ...FirstName...',\n",
       "         'typeClass': 'primitive',\n",
       "         'multiple': False,\n",
       "         'typeName': 'authorName'},\n",
       "        'authorAffiliation': {'value': '...Affiliation...',\n",
       "         'typeClass': 'primitive',\n",
       "         'multiple': False,\n",
       "         'typeName': 'authorAffiliation'}}],\n",
       "      'typeClass': 'compound',\n",
       "      'multiple': False,\n",
       "      'typeName': 'author'},\n",
       "     {'value': [{'datasetContactEmail': {'value': '...Email...',\n",
       "         'typeClass': 'primitive',\n",
       "         'multiple': False,\n",
       "         'typeName': 'datasetContactEmail'},\n",
       "        'datasetContactName': {'value': '...LastName..., ...FirstName...',\n",
       "         'typeClass': 'primitive',\n",
       "         'multiple': False,\n",
       "         'typeName': 'datasetContactName'}}],\n",
       "      'typeClass': 'compound',\n",
       "      'multiple': False,\n",
       "      'typeName': 'datasetContact'},\n",
       "     {'value': [{'dsDescriptionValue': {'value': '...Description...',\n",
       "         'typeClass': 'primitive',\n",
       "         'multiple': False,\n",
       "         'typeName': 'dsDescriptionValue'}}],\n",
       "      'typeClass': 'compound',\n",
       "      'multiple': True,\n",
       "      'typeName': 'dsDescription'},\n",
       "     {'value': [{'keywordValue': {'value': '...Keyword...',\n",
       "         'typeName': 'keywordValue',\n",
       "         'multiple': False,\n",
       "         'typeClass': 'primitive'}}],\n",
       "      'typeClass': 'compound',\n",
       "      'multiple': True,\n",
       "      'typeName': 'keyword'},\n",
       "     {'value': '...filetypes...',\n",
       "      'typeClass': 'primitive',\n",
       "      'multiple': False,\n",
       "      'typeName': 'technicalFormat'},\n",
       "     {'value': {'accessRights': {'typeName': 'accessRights',\n",
       "        'multiple': False,\n",
       "        'typeClass': 'controlledVocabulary',\n",
       "        'value': '...open/restricted/embargoed/closed..'}},\n",
       "      'typeClass': 'compound',\n",
       "      'multiple': False,\n",
       "      'typeName': 'access'}],\n",
       "    'displayName': 'Citation Metadata'}}}}"
      ]
     },
     "execution_count": 189,
     "metadata": {},
     "output_type": "execute_result"
    }
   ],
   "source": [
    "with open(\"../doc/metadata/template_RDR.json\") as f:\n",
    "    template = json.load(f)\n",
    "template"
   ]
  },
  {
   "cell_type": "code",
   "execution_count": 190,
   "id": "7fd17efb-a84c-4f7f-9cc0-79e91d345f71",
   "metadata": {},
   "outputs": [
    {
     "data": {
      "text/plain": [
       "[{'value': 'Minimum Viable Workflow - 16 May 2024',\n",
       "  'typeClass': 'primitive',\n",
       "  'multiple': False,\n",
       "  'typeName': 'title'},\n",
       " {'value': [{'authorName': {'value': 'Kafetzaki, Danai',\n",
       "     'typeClass': 'primitive',\n",
       "     'multiple': False,\n",
       "     'typeName': 'authorName'},\n",
       "    'authorAffiliation': {'value': 'KU Leuven',\n",
       "     'typeClass': 'primitive',\n",
       "     'multiple': False,\n",
       "     'typeName': 'authorAffiliation'}}],\n",
       "  'typeClass': 'compound',\n",
       "  'multiple': False,\n",
       "  'typeName': 'author'},\n",
       " {'value': [{'datasetContactEmail': {'value': 'danai.kafetzaki@kuleuven.be',\n",
       "     'typeClass': 'primitive',\n",
       "     'multiple': False,\n",
       "     'typeName': 'datasetContactEmail'},\n",
       "    'datasetContactName': {'value': 'Kafetzaki, Danai',\n",
       "     'typeClass': 'primitive',\n",
       "     'multiple': False,\n",
       "     'typeName': 'datasetContactName'}}],\n",
       "  'typeClass': 'compound',\n",
       "  'multiple': False,\n",
       "  'typeName': 'datasetContact'},\n",
       " {'value': [{'dsDescriptionValue': {'value': 'This is a minimal end-to-end implementation for iRODS-Dataverse integration, a KU Leuven and SURF collaboration',\n",
       "     'typeClass': 'primitive',\n",
       "     'multiple': False,\n",
       "     'typeName': 'dsDescriptionValue'}}],\n",
       "  'typeClass': 'compound',\n",
       "  'multiple': True,\n",
       "  'typeName': 'dsDescription'},\n",
       " {'value': [{'keywordValue': {'value': 'required-keyword',\n",
       "     'typeName': 'keywordValue',\n",
       "     'multiple': False,\n",
       "     'typeClass': 'primitive'}}],\n",
       "  'typeClass': 'compound',\n",
       "  'multiple': True,\n",
       "  'typeName': 'keyword'},\n",
       " {'value': 'json',\n",
       "  'typeClass': 'primitive',\n",
       "  'multiple': False,\n",
       "  'typeName': 'technicalFormat'},\n",
       " {'value': {'accessRights': {'typeName': 'accessRights',\n",
       "    'multiple': False,\n",
       "    'typeClass': 'controlledVocabulary',\n",
       "    'value': 'open'}},\n",
       "  'typeClass': 'compound',\n",
       "  'multiple': False,\n",
       "  'typeName': 'access'}]"
      ]
     },
     "execution_count": 190,
     "metadata": {},
     "output_type": "execute_result"
    }
   ],
   "source": [
    "[update_template(field, avus_as_json) for field in template[\"datasetVersion\"][\"metadataBlocks\"][\"citation\"][\"fields\"]]\n",
    "    "
   ]
  },
  {
   "cell_type": "code",
   "execution_count": 177,
   "id": "171f8cdc-9f5e-4b7a-ac08-6f3836a26aae",
   "metadata": {},
   "outputs": [
    {
     "data": {
      "text/plain": [
       "{'datasetVersion': {'metadataBlocks': {'citation': {'fields': [{'value': 'Minimum Viable Workflow - 16 May 2024',\n",
       "      'typeClass': 'primitive',\n",
       "      'multiple': False,\n",
       "      'typeName': 'title'},\n",
       "     {'value': [{'authorName': None, 'authorAffiliation': None}],\n",
       "      'typeClass': 'compound',\n",
       "      'multiple': False,\n",
       "      'typeName': 'author'},\n",
       "     {'value': [{'datasetContactEmail': None, 'datasetContactName': None}],\n",
       "      'typeClass': 'compound',\n",
       "      'multiple': False,\n",
       "      'typeName': 'datasetContact'},\n",
       "     {'value': [{'dsDescriptionValue': None}],\n",
       "      'typeClass': 'compound',\n",
       "      'multiple': True,\n",
       "      'typeName': 'dsDescription'},\n",
       "     {'value': [{'keywordValue': None}],\n",
       "      'typeClass': 'compound',\n",
       "      'multiple': True,\n",
       "      'typeName': 'keyword'},\n",
       "     {'value': 'json',\n",
       "      'typeClass': 'primitive',\n",
       "      'multiple': False,\n",
       "      'typeName': 'technicalFormat'},\n",
       "     {'value': {'accessRights': None},\n",
       "      'typeClass': 'compound',\n",
       "      'multiple': False,\n",
       "      'typeName': 'access'}],\n",
       "    'displayName': 'Citation Metadata'}}}}"
      ]
     },
     "execution_count": 177,
     "metadata": {},
     "output_type": "execute_result"
    }
   ],
   "source": [
    "template"
   ]
  },
  {
   "cell_type": "code",
   "execution_count": 163,
   "id": "2d842e69-c162-42e7-aff3-54105267d6ef",
   "metadata": {},
   "outputs": [
    {
     "name": "stdout",
     "output_type": "stream",
     "text": [
      "{'datasetVersion': {'metadataBlocks': {'citation': {'fields': [1, 2, 3], 'displayName': 'Citation Metadata'}}}}\n"
     ]
    }
   ],
   "source": [
    "fill_in_template(template, avus_as_json)\n",
    "print(template)"
   ]
  },
  {
   "cell_type": "code",
   "execution_count": 155,
   "id": "cc577bea-9a0b-49b0-be02-50aab68a9bca",
   "metadata": {},
   "outputs": [],
   "source": [
    "template[\"datasetVersion\"][\"metadataBlocks\"][\"citation\"][\"fields\"] = new_fields\n",
    "with open(\"../doc/metadata/filled_in_template_RDR.json\", \"w\") as f:\n",
    "    json.dump(template, f, indent=4)"
   ]
  }
 ],
 "metadata": {
  "kernelspec": {
   "display_name": "Python 3 (ipykernel)",
   "language": "python",
   "name": "python3"
  },
  "language_info": {
   "codemirror_mode": {
    "name": "ipython",
    "version": 3
   },
   "file_extension": ".py",
   "mimetype": "text/x-python",
   "name": "python",
   "nbconvert_exporter": "python",
   "pygments_lexer": "ipython3",
   "version": "3.10.8"
  }
 },
 "nbformat": 4,
 "nbformat_minor": 5
}
